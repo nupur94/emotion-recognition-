{
 "cells": [
  {
   "cell_type": "markdown",
   "metadata": {
    "colab_type": "text",
    "id": "Cvzb8KahyAtY"
   },
   "source": [
    "## Assignment\n",
    "\n",
    "### EMOTION PREDICTION IN CONVERSATIONS:\n",
    "\n",
    "\n"
   ]
  },
  {
   "cell_type": "code",
   "execution_count": 2,
   "metadata": {},
   "outputs": [],
   "source": [
    "import nltk\n",
    "nltk.download('stopwords')\n",
    "\n",
    "import pandas as pd\n",
    "import seaborn as sns\n",
    "import numpy as np\n",
    "import xgboost as xgb\n",
    "from tqdm import tqdm\n",
    "from sklearn.svm import SVC\n",
    "from keras.models import Sequential\n",
    "from keras.layers.recurrent import LSTM, GRU\n",
    "from keras.layers.core import Dense, Activation, Dropout\n",
    "from keras.layers.embeddings import Embedding\n",
    "from keras.layers.normalization import BatchNormalization\n",
    "from keras.utils import np_utils\n",
    "from sklearn import preprocessing, decomposition, model_selection, metrics, pipeline\n",
    "from sklearn.model_selection import GridSearchCV\n",
    "from sklearn.feature_extraction.text import TfidfVectorizer, CountVectorizer\n",
    "from sklearn.decomposition import TruncatedSVD\n",
    "from sklearn.linear_model import LogisticRegression\n",
    "from sklearn.model_selection import train_test_split\n",
    "from sklearn.naive_bayes import MultinomialNB\n",
    "from keras.layers import GlobalMaxPooling1D, Conv1D, MaxPooling1D, Flatten, Bidirectional, SpatialDropout1D\n",
    "from keras.preprocessing import sequence, text\n",
    "from keras.callbacks import EarlyStopping\n",
    "from nltk import word_tokenize\n",
    "from nltk.corpus import stopwords\n",
    "stop_words = stopwords.words('english')"
   ]
  },
  {
   "cell_type": "markdown",
   "metadata": {
    "colab_type": "text",
    "id": "xkNDkMK9yq01"
   },
   "source": [
    "### LOADING DATA\n",
    "- DATASET : MELD : https://affective-meld.github.io/\n"
   ]
  },
  {
   "cell_type": "code",
   "execution_count": 5,
   "metadata": {
    "colab": {},
    "colab_type": "code",
    "id": "fhE5XmMQqJfR"
   },
   "outputs": [],
   "source": [
    "train = pd.read_csv('train_sent.csv')\n",
    "cv = pd.read_csv('dev_sent.csv')\n",
    "test = pd.read_csv('test_sent.csv')"
   ]
  },
  {
   "cell_type": "markdown",
   "metadata": {
    "colab_type": "text",
    "id": "KrSWw7k1yuUr"
   },
   "source": [
    "### EXPLORATORY DATA ANALYSIS"
   ]
  },
  {
   "cell_type": "code",
   "execution_count": 6,
   "metadata": {
    "colab": {
     "base_uri": "https://localhost:8080/",
     "height": 68
    },
    "colab_type": "code",
    "id": "eSkliokBquNZ",
    "outputId": "6c44827e-050e-45b3-fff6-1ac55dc595fb"
   },
   "outputs": [
    {
     "data": {
      "text/plain": [
       "Index(['Sr No.', 'Utterance', 'Speaker', 'Emotion', 'Sentiment', 'Dialogue_ID',\n",
       "       'Utterance_ID', 'Season', 'Episode', 'StartTime', 'EndTime'],\n",
       "      dtype='object')"
      ]
     },
     "execution_count": 6,
     "metadata": {},
     "output_type": "execute_result"
    }
   ],
   "source": [
    "train.columns"
   ]
  },
  {
   "cell_type": "code",
   "execution_count": 8,
   "metadata": {
    "colab": {
     "base_uri": "https://localhost:8080/",
     "height": 289
    },
    "colab_type": "code",
    "id": "ZEEkh1bprrWx",
    "outputId": "d025f389-6705-4205-ba54-d84f1b1432f6"
   },
   "outputs": [
    {
     "data": {
      "text/html": [
       "<div>\n",
       "<style scoped>\n",
       "    .dataframe tbody tr th:only-of-type {\n",
       "        vertical-align: middle;\n",
       "    }\n",
       "\n",
       "    .dataframe tbody tr th {\n",
       "        vertical-align: top;\n",
       "    }\n",
       "\n",
       "    .dataframe thead th {\n",
       "        text-align: right;\n",
       "    }\n",
       "</style>\n",
       "<table border=\"1\" class=\"dataframe\">\n",
       "  <thead>\n",
       "    <tr style=\"text-align: right;\">\n",
       "      <th></th>\n",
       "      <th>Sr No.</th>\n",
       "      <th>Utterance</th>\n",
       "      <th>Speaker</th>\n",
       "      <th>Emotion</th>\n",
       "      <th>Sentiment</th>\n",
       "      <th>Dialogue_ID</th>\n",
       "      <th>Utterance_ID</th>\n",
       "      <th>Season</th>\n",
       "      <th>Episode</th>\n",
       "      <th>StartTime</th>\n",
       "      <th>EndTime</th>\n",
       "    </tr>\n",
       "  </thead>\n",
       "  <tbody>\n",
       "    <tr>\n",
       "      <th>0</th>\n",
       "      <td>1</td>\n",
       "      <td>also I was the point person on my companys tr...</td>\n",
       "      <td>Chandler</td>\n",
       "      <td>neutral</td>\n",
       "      <td>neutral</td>\n",
       "      <td>0</td>\n",
       "      <td>0</td>\n",
       "      <td>8</td>\n",
       "      <td>21</td>\n",
       "      <td>00:16:16,059</td>\n",
       "      <td>00:16:21,731</td>\n",
       "    </tr>\n",
       "    <tr>\n",
       "      <th>1</th>\n",
       "      <td>2</td>\n",
       "      <td>You mustve had your hands full.</td>\n",
       "      <td>The Interviewer</td>\n",
       "      <td>neutral</td>\n",
       "      <td>neutral</td>\n",
       "      <td>0</td>\n",
       "      <td>1</td>\n",
       "      <td>8</td>\n",
       "      <td>21</td>\n",
       "      <td>00:16:21,940</td>\n",
       "      <td>00:16:23,442</td>\n",
       "    </tr>\n",
       "    <tr>\n",
       "      <th>2</th>\n",
       "      <td>3</td>\n",
       "      <td>That I did. That I did.</td>\n",
       "      <td>Chandler</td>\n",
       "      <td>neutral</td>\n",
       "      <td>neutral</td>\n",
       "      <td>0</td>\n",
       "      <td>2</td>\n",
       "      <td>8</td>\n",
       "      <td>21</td>\n",
       "      <td>00:16:23,442</td>\n",
       "      <td>00:16:26,389</td>\n",
       "    </tr>\n",
       "    <tr>\n",
       "      <th>3</th>\n",
       "      <td>4</td>\n",
       "      <td>So lets talk a little bit about your duties.</td>\n",
       "      <td>The Interviewer</td>\n",
       "      <td>neutral</td>\n",
       "      <td>neutral</td>\n",
       "      <td>0</td>\n",
       "      <td>3</td>\n",
       "      <td>8</td>\n",
       "      <td>21</td>\n",
       "      <td>00:16:26,820</td>\n",
       "      <td>00:16:29,572</td>\n",
       "    </tr>\n",
       "    <tr>\n",
       "      <th>4</th>\n",
       "      <td>5</td>\n",
       "      <td>My duties?  All right.</td>\n",
       "      <td>Chandler</td>\n",
       "      <td>surprise</td>\n",
       "      <td>positive</td>\n",
       "      <td>0</td>\n",
       "      <td>4</td>\n",
       "      <td>8</td>\n",
       "      <td>21</td>\n",
       "      <td>00:16:34,452</td>\n",
       "      <td>00:16:40,917</td>\n",
       "    </tr>\n",
       "    <tr>\n",
       "      <th>5</th>\n",
       "      <td>6</td>\n",
       "      <td>Now youll be heading a whole division, so you...</td>\n",
       "      <td>The Interviewer</td>\n",
       "      <td>neutral</td>\n",
       "      <td>neutral</td>\n",
       "      <td>0</td>\n",
       "      <td>5</td>\n",
       "      <td>8</td>\n",
       "      <td>21</td>\n",
       "      <td>00:16:41,126</td>\n",
       "      <td>00:16:44,337</td>\n",
       "    </tr>\n",
       "    <tr>\n",
       "      <th>6</th>\n",
       "      <td>7</td>\n",
       "      <td>I see.</td>\n",
       "      <td>Chandler</td>\n",
       "      <td>neutral</td>\n",
       "      <td>neutral</td>\n",
       "      <td>0</td>\n",
       "      <td>6</td>\n",
       "      <td>8</td>\n",
       "      <td>21</td>\n",
       "      <td>00:16:48,800</td>\n",
       "      <td>00:16:51,886</td>\n",
       "    </tr>\n",
       "    <tr>\n",
       "      <th>7</th>\n",
       "      <td>8</td>\n",
       "      <td>But therell be perhaps 30 people under you so...</td>\n",
       "      <td>The Interviewer</td>\n",
       "      <td>neutral</td>\n",
       "      <td>neutral</td>\n",
       "      <td>0</td>\n",
       "      <td>7</td>\n",
       "      <td>8</td>\n",
       "      <td>21</td>\n",
       "      <td>00:16:48,800</td>\n",
       "      <td>00:16:54,514</td>\n",
       "    </tr>\n",
       "    <tr>\n",
       "      <th>8</th>\n",
       "      <td>9</td>\n",
       "      <td>Good to know.</td>\n",
       "      <td>Chandler</td>\n",
       "      <td>neutral</td>\n",
       "      <td>neutral</td>\n",
       "      <td>0</td>\n",
       "      <td>8</td>\n",
       "      <td>8</td>\n",
       "      <td>21</td>\n",
       "      <td>00:16:59,477</td>\n",
       "      <td>00:17:00,478</td>\n",
       "    </tr>\n",
       "    <tr>\n",
       "      <th>9</th>\n",
       "      <td>10</td>\n",
       "      <td>We can go into detail</td>\n",
       "      <td>The Interviewer</td>\n",
       "      <td>neutral</td>\n",
       "      <td>neutral</td>\n",
       "      <td>0</td>\n",
       "      <td>9</td>\n",
       "      <td>8</td>\n",
       "      <td>21</td>\n",
       "      <td>00:17:00,478</td>\n",
       "      <td>00:17:02,719</td>\n",
       "    </tr>\n",
       "  </tbody>\n",
       "</table>\n",
       "</div>"
      ],
      "text/plain": [
       "   Sr No.                                          Utterance          Speaker  \\\n",
       "0       1  also I was the point person on my companys tr...         Chandler   \n",
       "1       2                   You mustve had your hands full.  The Interviewer   \n",
       "2       3                            That I did. That I did.         Chandler   \n",
       "3       4      So lets talk a little bit about your duties.  The Interviewer   \n",
       "4       5                             My duties?  All right.         Chandler   \n",
       "5       6  Now youll be heading a whole division, so you...  The Interviewer   \n",
       "6       7                                             I see.         Chandler   \n",
       "7       8  But therell be perhaps 30 people under you so...  The Interviewer   \n",
       "8       9                                      Good to know.         Chandler   \n",
       "9      10                              We can go into detail  The Interviewer   \n",
       "\n",
       "    Emotion Sentiment  Dialogue_ID  Utterance_ID  Season  Episode  \\\n",
       "0   neutral   neutral            0             0       8       21   \n",
       "1   neutral   neutral            0             1       8       21   \n",
       "2   neutral   neutral            0             2       8       21   \n",
       "3   neutral   neutral            0             3       8       21   \n",
       "4  surprise  positive            0             4       8       21   \n",
       "5   neutral   neutral            0             5       8       21   \n",
       "6   neutral   neutral            0             6       8       21   \n",
       "7   neutral   neutral            0             7       8       21   \n",
       "8   neutral   neutral            0             8       8       21   \n",
       "9   neutral   neutral            0             9       8       21   \n",
       "\n",
       "      StartTime       EndTime  \n",
       "0  00:16:16,059  00:16:21,731  \n",
       "1  00:16:21,940  00:16:23,442  \n",
       "2  00:16:23,442  00:16:26,389  \n",
       "3  00:16:26,820  00:16:29,572  \n",
       "4  00:16:34,452  00:16:40,917  \n",
       "5  00:16:41,126  00:16:44,337  \n",
       "6  00:16:48,800  00:16:51,886  \n",
       "7  00:16:48,800  00:16:54,514  \n",
       "8  00:16:59,477  00:17:00,478  \n",
       "9  00:17:00,478  00:17:02,719  "
      ]
     },
     "execution_count": 8,
     "metadata": {},
     "output_type": "execute_result"
    }
   ],
   "source": [
    "train.head(10)"
   ]
  },
  {
   "cell_type": "code",
   "execution_count": 9,
   "metadata": {},
   "outputs": [
    {
     "data": {
      "text/plain": [
       "((9989, 11), (1109, 11), (2610, 11))"
      ]
     },
     "execution_count": 9,
     "metadata": {},
     "output_type": "execute_result"
    }
   ],
   "source": [
    "train.shape, cv.shape , test.shape"
   ]
  },
  {
   "cell_type": "markdown",
   "metadata": {},
   "source": [
    "### Missing value analysis"
   ]
  },
  {
   "cell_type": "code",
   "execution_count": 13,
   "metadata": {},
   "outputs": [
    {
     "name": "stdout",
     "output_type": "stream",
     "text": [
      "<class 'pandas.core.frame.DataFrame'>\n",
      "RangeIndex: 9989 entries, 0 to 9988\n",
      "Data columns (total 11 columns):\n",
      "Sr No.          9989 non-null int64\n",
      "Utterance       9989 non-null object\n",
      "Speaker         9989 non-null object\n",
      "Emotion         9989 non-null object\n",
      "Sentiment       9989 non-null object\n",
      "Dialogue_ID     9989 non-null int64\n",
      "Utterance_ID    9989 non-null int64\n",
      "Season          9989 non-null int64\n",
      "Episode         9989 non-null int64\n",
      "StartTime       9989 non-null object\n",
      "EndTime         9989 non-null object\n",
      "dtypes: int64(5), object(6)\n",
      "memory usage: 858.5+ KB\n"
     ]
    }
   ],
   "source": [
    "train.info()"
   ]
  },
  {
   "cell_type": "code",
   "execution_count": 14,
   "metadata": {},
   "outputs": [
    {
     "name": "stdout",
     "output_type": "stream",
     "text": [
      "<class 'pandas.core.frame.DataFrame'>\n",
      "RangeIndex: 2610 entries, 0 to 2609\n",
      "Data columns (total 11 columns):\n",
      "Sr No.          2610 non-null int64\n",
      "Utterance       2610 non-null object\n",
      "Speaker         2610 non-null object\n",
      "Emotion         2610 non-null object\n",
      "Sentiment       2610 non-null object\n",
      "Dialogue_ID     2610 non-null int64\n",
      "Utterance_ID    2610 non-null int64\n",
      "Season          2610 non-null int64\n",
      "Episode         2610 non-null int64\n",
      "StartTime       2610 non-null object\n",
      "EndTime         2610 non-null object\n",
      "dtypes: int64(5), object(6)\n",
      "memory usage: 224.4+ KB\n"
     ]
    }
   ],
   "source": [
    "test.info()"
   ]
  },
  {
   "cell_type": "code",
   "execution_count": 15,
   "metadata": {},
   "outputs": [
    {
     "name": "stdout",
     "output_type": "stream",
     "text": [
      "<class 'pandas.core.frame.DataFrame'>\n",
      "RangeIndex: 1109 entries, 0 to 1108\n",
      "Data columns (total 11 columns):\n",
      "Sr No.          1109 non-null int64\n",
      "Utterance       1109 non-null object\n",
      "Speaker         1109 non-null object\n",
      "Emotion         1109 non-null object\n",
      "Sentiment       1109 non-null object\n",
      "Dialogue_ID     1109 non-null int64\n",
      "Utterance_ID    1109 non-null int64\n",
      "Season          1109 non-null int64\n",
      "Episode         1109 non-null int64\n",
      "StartTime       1109 non-null object\n",
      "EndTime         1109 non-null object\n",
      "dtypes: int64(5), object(6)\n",
      "memory usage: 95.4+ KB\n"
     ]
    }
   ],
   "source": [
    "cv.info()"
   ]
  },
  {
   "cell_type": "markdown",
   "metadata": {},
   "source": [
    "### Distribution plots"
   ]
  },
  {
   "cell_type": "code",
   "execution_count": 10,
   "metadata": {
    "colab": {
     "base_uri": "https://localhost:8080/",
     "height": 415
    },
    "colab_type": "code",
    "id": "rKcSVCMIr4g_",
    "outputId": "a5d6fc39-5c8d-45a0-a427-7373a768b840"
   },
   "outputs": [
    {
     "name": "stdout",
     "output_type": "stream",
     "text": [
      "neutral     4710\n",
      "joy         1743\n",
      "surprise    1205\n",
      "anger       1109\n",
      "sadness      683\n",
      "disgust      271\n",
      "fear         268\n",
      "Name: Emotion, dtype: int64\n"
     ]
    },
    {
     "data": {
      "image/png": "[encoded data removed]",
      "text/plain": [
       "<Figure size 432x288 with 1 Axes>"
      ]
     },
     "metadata": {},
     "output_type": "display_data"
    }
   ],
   "source": [
    "#Imbalanced Data\n",
    "ax = sns.countplot(x=train['Emotion'], data=train)\n",
    "print(train['Emotion'].value_counts())"
   ]
  },
  {
   "cell_type": "code",
   "execution_count": 11,
   "metadata": {
    "colab": {
     "base_uri": "https://localhost:8080/",
     "height": 415
    },
    "colab_type": "code",
    "id": "_NctoU2quOfz",
    "outputId": "7a6068a2-d0e1-470f-bfbf-80a94ca38018"
   },
   "outputs": [
    {
     "name": "stdout",
     "output_type": "stream",
     "text": [
      "neutral     470\n",
      "joy         163\n",
      "anger       153\n",
      "surprise    150\n",
      "sadness     111\n",
      "fear         40\n",
      "disgust      22\n",
      "Name: Emotion, dtype: int64\n"
     ]
    },
    {
     "data": {
      "image/png": "[encoded data removed]",
      "text/plain": [
       "<Figure size 432x288 with 1 Axes>"
      ]
     },
     "metadata": {},
     "output_type": "display_data"
    }
   ],
   "source": [
    "#Imbalanced Data\n",
    "ax = sns.countplot(x=cv['Emotion'], data=cv)\n",
    "print(cv['Emotion'].value_counts())"
   ]
  },
  {
   "cell_type": "code",
   "execution_count": 12,
   "metadata": {
    "colab": {
     "base_uri": "https://localhost:8080/",
     "height": 415
    },
    "colab_type": "code",
    "id": "Y5lbjooKuOjM",
    "outputId": "a55d1134-f15e-486a-fa15-f44e65c4f264"
   },
   "outputs": [
    {
     "name": "stdout",
     "output_type": "stream",
     "text": [
      "neutral     1256\n",
      "joy          402\n",
      "anger        345\n",
      "surprise     281\n",
      "sadness      208\n",
      "disgust       68\n",
      "fear          50\n",
      "Name: Emotion, dtype: int64\n"
     ]
    },
    {
     "data": {
      "image/png": "[encoded data removed]",
      "text/plain": [
       "<Figure size 432x288 with 1 Axes>"
      ]
     },
     "metadata": {},
     "output_type": "display_data"
    }
   ],
   "source": [
    "#Imbalanced Data\n",
    "ax = sns.countplot(x=test['Emotion'], data=test)\n",
    "print(test['Emotion'].value_counts())"
   ]
  },
  {
   "cell_type": "markdown",
   "metadata": {},
   "source": [
    "### Observation:-\n",
    "- Their is no missing values present in our dataset.\n",
    "- the distribution of train , cv and test data points are same.\n"
   ]
  },
  {
   "cell_type": "markdown",
   "metadata": {
    "colab_type": "text",
    "id": "um7uQHVnvVg1"
   },
   "source": [
    "## Splits"
   ]
  },
  {
   "cell_type": "code",
   "execution_count": 15,
   "metadata": {
    "colab": {},
    "colab_type": "code",
    "id": "69sLvs-lvDjb"
   },
   "outputs": [],
   "source": [
    "X_train , y_train = train[['Utterance']] , train[['Emotion']]\n",
    "X_cv , y_cv = cv[['Utterance']] , cv[['Emotion']]\n",
    "X_test , y_test = test[['Utterance']] , test[['Emotion']]"
   ]
  },
  {
   "cell_type": "markdown",
   "metadata": {},
   "source": [
    "## Data preprocessing"
   ]
  },
  {
   "cell_type": "code",
   "execution_count": 16,
   "metadata": {},
   "outputs": [],
   "source": [
    "import re\n",
    "\n",
    "### Dataset Preprocessing training set\n",
    "from nltk.stem.porter import PorterStemmer\n",
    "ps = PorterStemmer()\n",
    "train_corpus = []\n",
    "for i in range(0, len(X_train)):\n",
    "    review = re.sub('[^a-zA-Z]', ' ', X_train['Utterance'][i])\n",
    "    review = review.lower()\n",
    "    review = review.split()\n",
    "    \n",
    "    review = [ps.stem(word) for word in review if not word in stopwords.words('english')]\n",
    "    review = ' '.join(review)\n",
    "    train_corpus.append(review)"
   ]
  },
  {
   "cell_type": "code",
   "execution_count": 19,
   "metadata": {},
   "outputs": [],
   "source": [
    "import re\n",
    "\n",
    "### Dataset Preprocessing cv set\n",
    "from nltk.stem.porter import PorterStemmer\n",
    "ps = PorterStemmer()\n",
    "cv_corpus = []\n",
    "for i in range(0, len(X_cv)):\n",
    "    review = re.sub('[^a-zA-Z]', ' ', X_cv['Utterance'][i])\n",
    "    review = review.lower()\n",
    "    review = review.split()\n",
    "    \n",
    "    review = [ps.stem(word) for word in review if not word in stopwords.words('english')]\n",
    "    review = ' '.join(review)\n",
    "    cv_corpus.append(review)"
   ]
  },
  {
   "cell_type": "code",
   "execution_count": 20,
   "metadata": {},
   "outputs": [],
   "source": [
    "import re\n",
    "\n",
    "### Dataset Preprocessing test set\n",
    "from nltk.stem.porter import PorterStemmer\n",
    "ps = PorterStemmer()\n",
    "test_corpus = []\n",
    "for i in range(0, len(X_test)):\n",
    "    review = re.sub('[^a-zA-Z]', ' ', X_test['Utterance'][i])\n",
    "    review = review.lower()\n",
    "    review = review.split()\n",
    "    \n",
    "    review = [ps.stem(word) for word in review if not word in stopwords.words('english')]\n",
    "    review = ' '.join(review)\n",
    "    test_corpus.append(review)"
   ]
  },
  {
   "cell_type": "markdown",
   "metadata": {
    "colab_type": "text",
    "id": "UvhtwpVXy1DT"
   },
   "source": [
    "## Defining Multi Class LogLoss"
   ]
  },
  {
   "cell_type": "code",
   "execution_count": 16,
   "metadata": {
    "colab": {},
    "colab_type": "code",
    "id": "B3PWj4wgvkhO"
   },
   "outputs": [],
   "source": [
    "def multiclass_logloss(actual, predicted, eps=1e-15):\n",
    "    \"\"\"Multi class version of Logarithmic Loss metric.\n",
    "    :param actual: Array containing the actual target classes\n",
    "    :param predicted: Matrix with class predictions, one probability per class\n",
    "    \"\"\"\n",
    "    # Convert 'actual' to a binary array if it's not already:\n",
    "    if len(actual.shape) == 1:\n",
    "        actual2 = np.zeros((actual.shape[0], predicted.shape[1]))\n",
    "        for i, val in enumerate(actual):\n",
    "            actual2[i, val] = 1\n",
    "        actual = actual2\n",
    "\n",
    "    clip = np.clip(predicted, eps, 1 - eps)\n",
    "    rows = actual.shape[0]\n",
    "    vsota = np.sum(actual * np.log(clip))\n",
    "    return -1.0 / rows * vsota"
   ]
  },
  {
   "cell_type": "markdown",
   "metadata": {
    "colab_type": "text",
    "id": "EEbiFXPFy6f6"
   },
   "source": [
    "### Define a scorer to be used in Grid Search"
   ]
  },
  {
   "cell_type": "code",
   "execution_count": 17,
   "metadata": {
    "colab": {},
    "colab_type": "code",
    "id": "Q2hnrIy-2KQQ"
   },
   "outputs": [],
   "source": [
    "scorer = metrics.make_scorer(multiclass_logloss, greater_is_better=False, needs_proba=True)"
   ]
  },
  {
   "cell_type": "markdown",
   "metadata": {
    "colab_type": "text",
    "id": "I-3Gv2UTxdk4"
   },
   "source": [
    "### Vectorization"
   ]
  },
  {
   "cell_type": "code",
   "execution_count": 18,
   "metadata": {
    "colab": {},
    "colab_type": "code",
    "id": "RRPTJO20vzar"
   },
   "outputs": [],
   "source": [
    "enc = preprocessing.LabelEncoder()\n",
    "y_train_enc = enc.fit_transform(y_train.Emotion.values)\n",
    "y_cv_enc = enc.transform(y_cv.Emotion.values)\n",
    "y_test_enc = enc.transform(y_test.Emotion.values)"
   ]
  },
  {
   "cell_type": "code",
   "execution_count": 21,
   "metadata": {},
   "outputs": [],
   "source": [
    "X_train['clean_utterance'] = train_corpus\n",
    "X_train.drop('Utterance',axis=1,inplace=True)\n",
    "X_cv['clean_utterance'] = cv_corpus\n",
    "X_cv.drop('Utterance',axis=1,inplace=True)\n",
    "X_test['clean_utterance'] = test_corpus\n",
    "X_test.drop('Utterance',axis=1,inplace=True)"
   ]
  },
  {
   "cell_type": "markdown",
   "metadata": {
    "colab_type": "text",
    "id": "Vj6KJRzkzKMp"
   },
   "source": [
    "###  MODELLING"
   ]
  },
  {
   "cell_type": "markdown",
   "metadata": {
    "colab_type": "text",
    "id": "dIFLFPAUznGR"
   },
   "source": [
    "### Logistic regression"
   ]
  },
  {
   "cell_type": "code",
   "execution_count": 27,
   "metadata": {
    "colab": {},
    "colab_type": "code",
    "id": "89fw_nBvzjaz"
   },
   "outputs": [],
   "source": [
    "tfv = TfidfVectorizer(min_df=3,  max_features=None, \n",
    "            strip_accents='unicode', analyzer='word',token_pattern=r'\\w{1,}',\n",
    "            ngram_range=(1, 3), use_idf=1,smooth_idf=1,sublinear_tf=1,\n",
    "            stop_words = 'english')\n",
    "\n",
    "# Fitting TF-IDF to both training and test sets (semi-supervised learning)\n",
    "tfv.fit(list(X_train['clean_utterance']) + list(X_cv['clean_utterance']) + list(X_test['clean_utterance']))\n",
    "X_train_tfv =  tfv.transform(X_train['clean_utterance']) \n",
    "X_valid_tfv = tfv.transform(X_cv['clean_utterance'])\n",
    "X_test_tfv = tfv.transform(X_test['clean_utterance'])"
   ]
  },
  {
   "cell_type": "code",
   "execution_count": 22,
   "metadata": {},
   "outputs": [
    {
     "name": "stdout",
     "output_type": "stream",
     "text": [
      "(9989, 3179)\n"
     ]
    }
   ],
   "source": [
    "X_train_tfv.shape"
   ]
  },
  {
   "cell_type": "code",
   "execution_count": 23,
   "metadata": {},
   "outputs": [
    {
     "name": "stdout",
     "output_type": "stream",
     "text": [
      "(1109, 3179)\n"
     ]
    }
   ],
   "source": [
    "X_valid_tfv.shape"
   ]
  },
  {
   "cell_type": "code",
   "execution_count": 25,
   "metadata": {},
   "outputs": [
    {
     "name": "stdout",
     "output_type": "stream",
     "text": [
      "\n",
      "Fitting 2 folds for each of 9 candidates, totalling 18 fits\n",
      "[Parallel(n_jobs=-1)]: Using backend LokyBackend with 2 concurrent workers.\n",
      "[Parallel(n_jobs=-1)]: Done   1 tasks      | elapsed:    2.0s\n",
      "[Parallel(n_jobs=-1)]: Done   4 tasks      | elapsed:    2.6s\n",
      "[Parallel(n_jobs=-1)]: Done   9 tasks      | elapsed:    3.2s\n",
      "[Parallel(n_jobs=-1)]: Done  14 tasks      | elapsed:    4.9s\n",
      "[Parallel(n_jobs=-1)]: Done  18 out of  18 | elapsed:    7.1s finished\n",
      "Best score: -1.417605 using {'C': 1}\n"
     ]
    }
   ],
   "source": [
    "from sklearn.linear_model import LogisticRegression\n",
    "from sklearn.model_selection import GridSearchCV\n",
    "from sklearn.metrics import roc_auc_score\n",
    "\n",
    "\n",
    "alpha = [10 ** x for x in range(-6, 3)]\n",
    "\n",
    "\n",
    "# initialize Our first RandomForestRegressor model...\n",
    "regr2 = LogisticRegression()\n",
    "\n",
    "# declare parameters for hyperparameter tuning\n",
    "parameters = {'C':alpha} \n",
    "\n",
    "# Perform cross validation \n",
    "clf = GridSearchCV(regr2,\n",
    "                    param_grid = parameters,\n",
    "                    scoring=scorer,\n",
    "                    n_jobs = -1,\n",
    "                    verbose = 10, refit=True, cv=2)\n",
    "result = clf.fit(X_train_tfv, y_train_enc)\n",
    "\n",
    "# Summarize results\n",
    "print(\"Best score: %f using %s\" % (result.best_score_, result.best_params_))\n",
    "means = result.cv_results_['mean_test_score']\n",
    "stds = result.cv_results_['std_test_score']\n",
    "params = result.cv_results_['params']\n"
   ]
  },
  {
   "cell_type": "code",
   "execution_count": null,
   "metadata": {
    "colab": {
     "base_uri": "https://localhost:8080/",
     "height": 102
    },
    "colab_type": "code",
    "id": "aAyCwQ9i8M03",
    "outputId": "2ceb705e-8ca5-4783-e3ee-a6d293a829fe"
   },
   "outputs": [
    {
     "data": {
      "text/plain": [
       "LogisticRegression(C=1, class_weight=None, dual=False, fit_intercept=True,\n",
       "                   intercept_scaling=1, l1_ratio=None, max_iter=100,\n",
       "                   multi_class='auto', n_jobs=None, penalty='l2',\n",
       "                   random_state=None, solver='lbfgs', tol=0.0001, verbose=0,\n",
       "                   warm_start=False)"
      ]
     },
     "execution_count": 122,
     "metadata": {
      "tags": []
     },
     "output_type": "execute_result"
    }
   ],
   "source": [
    "lr = LogisticRegression(C = 1)\n",
    "lr.fit(X_train_tfv, y_train_enc)"
   ]
  },
  {
   "cell_type": "markdown",
   "metadata": {
    "colab_type": "text",
    "id": "CoJ9Wtgz9AaV"
   },
   "source": [
    "## Train,Test and CV loss\n"
   ]
  },
  {
   "cell_type": "code",
   "execution_count": 26,
   "metadata": {},
   "outputs": [
    {
     "name": "stdout",
     "output_type": "stream",
     "text": [
      "logloss: 1.119 \n"
     ]
    }
   ],
   "source": [
    "predictions = lr.predict_proba(X_train_tfv)\n",
    "print (\"logloss: %0.3f \" % multiclass_logloss(y_train_enc, predictions))"
   ]
  },
  {
   "cell_type": "code",
   "execution_count": 27,
   "metadata": {},
   "outputs": [
    {
     "name": "stdout",
     "output_type": "stream",
     "text": [
      "logloss: 1.325 \n"
     ]
    }
   ],
   "source": [
    "predictions = lr.predict_proba(X_valid_tfv)\n",
    "print (\"logloss: %0.3f \" % multiclass_logloss(y_cv_enc, predictions))"
   ]
  },
  {
   "cell_type": "code",
   "execution_count": 28,
   "metadata": {},
   "outputs": [
    {
     "name": "stdout",
     "output_type": "stream",
     "text": [
      "logloss: 1.271 \n"
     ]
    }
   ],
   "source": [
    "predictions = lr.predict_proba(X_test_tfv)\n",
    "print (\"logloss: %0.3f \" % multiclass_logloss(y_test_enc, predictions))"
   ]
  },
  {
   "cell_type": "code",
   "execution_count": null,
   "metadata": {
    "colab": {},
    "colab_type": "code",
    "id": "otBqIIeLeMFu"
   },
   "outputs": [],
   "source": [
    "# using keras tokenizer here\n",
    "token = text.Tokenizer(num_words=None)\n",
    "max_len = 70\n",
    "a =list(X_train['clean_utterance']) + list(X_cv['clean_utterance']) + list(X_test['clean_utterance'])\n",
    "token.fit_on_texts(a)\n",
    "xtrain_seq = token.texts_to_sequences(X_train['clean_utterance'])\n",
    "xvalid_seq = token.texts_to_sequences(X_cv['clean_utterance'])\n",
    "xtest_seq = token.texts_to_sequences(X_test['clean_utterance'])\n",
    "\n",
    "# zero pad the sequences\n",
    "xtrain_pad = sequence.pad_sequences(xtrain_seq, maxlen=max_len)\n",
    "xvalid_pad = sequence.pad_sequences(xvalid_seq, maxlen=max_len)\n",
    "xtest_pad = sequence.pad_sequences(xtest_seq, maxlen=max_len)\n",
    "\n",
    "word_index = token.word_index"
   ]
  },
  {
   "cell_type": "code",
   "execution_count": 31,
   "metadata": {},
   "outputs": [],
   "source": [
    "# create an embedding matrix for the words we have in the dataset\n",
    "embedding_matrix = np.zeros((len(word_index) + 1, 300))\n",
    "for word, i in word_index.items():\n",
    "    embedding_vector = embeddings_index.get(word)\n",
    "    if embedding_vector is not None:\n",
    "        embedding_matrix[i] = embedding_vector"
   ]
  },
  {
   "cell_type": "markdown",
   "metadata": {
    "colab_type": "text",
    "id": "eNfK4oehhmWO"
   },
   "source": [
    "### LSTM"
   ]
  },
  {
   "cell_type": "code",
   "execution_count": null,
   "metadata": {
    "colab": {
     "base_uri": "https://localhost:8080/",
     "height": 1000
    },
    "colab_type": "code",
    "id": "0s5IoVT6gqwI",
    "outputId": "799200a9-8992-4545-d574-961e2971c40e"
   },
   "outputs": [
    {
     "name": "stdout",
     "output_type": "stream",
     "text": [
      "Train on 9989 samples, validate on 1109 samples\n",
      "Epoch 1/200\n",
      "9989/9989 [==============================] - 7s 658us/step - loss: 1.9394 - val_loss: 1.9347\n",
      "Epoch 2/200\n",
      "9989/9989 [==============================] - 6s 584us/step - loss: 1.9256 - val_loss: 1.9239\n",
      "Epoch 3/200\n",
      "9989/9989 [==============================] - 6s 593us/step - loss: 1.9122 - val_loss: 1.9134\n",
      "Epoch 4/200\n",
      "9989/9989 [==============================] - 6s 573us/step - loss: 1.8992 - val_loss: 1.9032\n",
      "Epoch 5/200\n",
      "9989/9989 [==============================] - 6s 587us/step - loss: 1.8867 - val_loss: 1.8934\n",
      "Epoch 6/200\n",
      "9989/9989 [==============================] - 6s 585us/step - loss: 1.8744 - val_loss: 1.8839\n",
      "Epoch 7/200\n",
      "9989/9989 [==============================] - 6s 591us/step - loss: 1.8627 - val_loss: 1.8746\n",
      "Epoch 8/200\n",
      "9989/9989 [==============================] - 6s 589us/step - loss: 1.8512 - val_loss: 1.8656\n",
      "Epoch 9/200\n",
      "9989/9989 [==============================] - 6s 593us/step - loss: 1.8400 - val_loss: 1.8569\n",
      "Epoch 10/200\n",
      "9989/9989 [==============================] - 6s 582us/step - loss: 1.8292 - val_loss: 1.8485\n",
      "Epoch 11/200\n",
      "9989/9989 [==============================] - 6s 586us/step - loss: 1.8188 - val_loss: 1.8402\n",
      "Epoch 12/200\n",
      "9989/9989 [==============================] - 6s 586us/step - loss: 1.8085 - val_loss: 1.8323\n",
      "Epoch 13/200\n",
      "9989/9989 [==============================] - 6s 590us/step - loss: 1.7987 - val_loss: 1.8245\n",
      "Epoch 14/200\n",
      "9989/9989 [==============================] - 6s 590us/step - loss: 1.7890 - val_loss: 1.8169\n",
      "Epoch 15/200\n",
      "9989/9989 [==============================] - 6s 577us/step - loss: 1.7797 - val_loss: 1.8095\n",
      "Epoch 16/200\n",
      "9989/9989 [==============================] - 6s 582us/step - loss: 1.7707 - val_loss: 1.8024\n",
      "Epoch 17/200\n",
      "9989/9989 [==============================] - 6s 584us/step - loss: 1.7618 - val_loss: 1.7954\n",
      "Epoch 18/200\n",
      "9989/9989 [==============================] - 6s 588us/step - loss: 1.7533 - val_loss: 1.7886\n",
      "Epoch 19/200\n",
      "9989/9989 [==============================] - 6s 587us/step - loss: 1.7450 - val_loss: 1.7820\n",
      "Epoch 20/200\n",
      "9989/9989 [==============================] - 6s 592us/step - loss: 1.7370 - val_loss: 1.7758\n",
      "Epoch 21/200\n",
      "9989/9989 [==============================] - 6s 581us/step - loss: 1.7292 - val_loss: 1.7697\n",
      "Epoch 22/200\n",
      "9989/9989 [==============================] - 6s 588us/step - loss: 1.7216 - val_loss: 1.7640\n",
      "Epoch 23/200\n",
      "9989/9989 [==============================] - 6s 570us/step - loss: 1.7144 - val_loss: 1.7582\n",
      "Epoch 24/200\n",
      "9989/9989 [==============================] - 6s 574us/step - loss: 1.7073 - val_loss: 1.7528\n",
      "Epoch 25/200\n",
      "9989/9989 [==============================] - 6s 579us/step - loss: 1.7005 - val_loss: 1.7476\n",
      "Epoch 26/200\n",
      "9989/9989 [==============================] - 6s 577us/step - loss: 1.6939 - val_loss: 1.7426\n",
      "Epoch 27/200\n",
      "9989/9989 [==============================] - 6s 563us/step - loss: 1.6875 - val_loss: 1.7376\n",
      "Epoch 28/200\n",
      "9989/9989 [==============================] - 6s 603us/step - loss: 1.6813 - val_loss: 1.7330\n",
      "Epoch 29/200\n",
      "9989/9989 [==============================] - 6s 585us/step - loss: 1.6755 - val_loss: 1.7285\n",
      "Epoch 30/200\n",
      "9989/9989 [==============================] - 6s 611us/step - loss: 1.6698 - val_loss: 1.7242\n",
      "Epoch 31/200\n",
      "9989/9989 [==============================] - 6s 583us/step - loss: 1.6643 - val_loss: 1.7202\n",
      "Epoch 32/200\n",
      "9989/9989 [==============================] - 6s 578us/step - loss: 1.6590 - val_loss: 1.7162\n",
      "Epoch 33/200\n",
      "9989/9989 [==============================] - 6s 571us/step - loss: 1.6539 - val_loss: 1.7124\n",
      "Epoch 34/200\n",
      "9989/9989 [==============================] - 6s 585us/step - loss: 1.6490 - val_loss: 1.7088\n",
      "Epoch 35/200\n",
      "9989/9989 [==============================] - 6s 598us/step - loss: 1.6443 - val_loss: 1.7053\n",
      "Epoch 36/200\n",
      "9989/9989 [==============================] - 6s 579us/step - loss: 1.6398 - val_loss: 1.7021\n",
      "Epoch 37/200\n",
      "9989/9989 [==============================] - 6s 572us/step - loss: 1.6355 - val_loss: 1.6989\n",
      "Epoch 38/200\n",
      "9989/9989 [==============================] - 6s 579us/step - loss: 1.6313 - val_loss: 1.6959\n",
      "Epoch 39/200\n",
      "9989/9989 [==============================] - 6s 568us/step - loss: 1.6273 - val_loss: 1.6931\n",
      "Epoch 40/200\n",
      "9989/9989 [==============================] - 6s 596us/step - loss: 1.6235 - val_loss: 1.6903\n",
      "Epoch 41/200\n",
      "9989/9989 [==============================] - 6s 585us/step - loss: 1.6198 - val_loss: 1.6878\n",
      "Epoch 42/200\n",
      "9989/9989 [==============================] - 6s 595us/step - loss: 1.6163 - val_loss: 1.6853\n",
      "Epoch 43/200\n",
      "9989/9989 [==============================] - 6s 577us/step - loss: 1.6129 - val_loss: 1.6829\n",
      "Epoch 44/200\n",
      "9989/9989 [==============================] - 6s 572us/step - loss: 1.6097 - val_loss: 1.6808\n",
      "Epoch 45/200\n",
      "9989/9989 [==============================] - 6s 587us/step - loss: 1.6065 - val_loss: 1.6786\n",
      "Epoch 46/200\n",
      "9989/9989 [==============================] - 6s 589us/step - loss: 1.6036 - val_loss: 1.6765\n",
      "Epoch 47/200\n",
      "9989/9989 [==============================] - 6s 588us/step - loss: 1.6007 - val_loss: 1.6746\n",
      "Epoch 48/200\n",
      "9989/9989 [==============================] - 6s 604us/step - loss: 1.5980 - val_loss: 1.6728\n",
      "Epoch 49/200\n",
      "9989/9989 [==============================] - 6s 586us/step - loss: 1.5954 - val_loss: 1.6710\n",
      "Epoch 50/200\n",
      "9989/9989 [==============================] - 6s 572us/step - loss: 1.5929 - val_loss: 1.6694\n",
      "Epoch 51/200\n",
      "9989/9989 [==============================] - 6s 585us/step - loss: 1.5904 - val_loss: 1.6678\n",
      "Epoch 52/200\n",
      "9989/9989 [==============================] - 6s 584us/step - loss: 1.5882 - val_loss: 1.6664\n",
      "Epoch 53/200\n",
      "9989/9989 [==============================] - 6s 596us/step - loss: 1.5860 - val_loss: 1.6648\n",
      "Epoch 54/200\n",
      "9989/9989 [==============================] - 6s 568us/step - loss: 1.5839 - val_loss: 1.6636\n",
      "Epoch 55/200\n",
      "9989/9989 [==============================] - 6s 596us/step - loss: 1.5819 - val_loss: 1.6624\n",
      "Epoch 56/200\n",
      "9989/9989 [==============================] - 6s 589us/step - loss: 1.5799 - val_loss: 1.6611\n",
      "Epoch 57/200\n",
      "9989/9989 [==============================] - 6s 588us/step - loss: 1.5781 - val_loss: 1.6599\n",
      "Epoch 58/200\n",
      "9989/9989 [==============================] - 6s 596us/step - loss: 1.5763 - val_loss: 1.6588\n",
      "Epoch 59/200\n",
      "9989/9989 [==============================] - 6s 579us/step - loss: 1.5746 - val_loss: 1.6579\n",
      "Epoch 60/200\n",
      "9989/9989 [==============================] - 6s 582us/step - loss: 1.5730 - val_loss: 1.6568\n",
      "Epoch 61/200\n",
      "9989/9989 [==============================] - 6s 584us/step - loss: 1.5715 - val_loss: 1.6558\n",
      "Epoch 62/200\n",
      "9989/9989 [==============================] - 6s 591us/step - loss: 1.5700 - val_loss: 1.6550\n",
      "Epoch 63/200\n",
      "9989/9989 [==============================] - 6s 584us/step - loss: 1.5686 - val_loss: 1.6540\n",
      "Epoch 64/200\n",
      "9989/9989 [==============================] - 6s 590us/step - loss: 1.5673 - val_loss: 1.6532\n",
      "Epoch 65/200\n",
      "9989/9989 [==============================] - 6s 635us/step - loss: 1.5660 - val_loss: 1.6525\n",
      "Epoch 66/200\n",
      "9989/9989 [==============================] - 6s 633us/step - loss: 1.5647 - val_loss: 1.6517\n",
      "Epoch 67/200\n",
      "9989/9989 [==============================] - 6s 613us/step - loss: 1.5636 - val_loss: 1.6511\n",
      "Epoch 68/200\n",
      "9989/9989 [==============================] - 6s 608us/step - loss: 1.5624 - val_loss: 1.6504\n",
      "Epoch 69/200\n",
      "9989/9989 [==============================] - 6s 610us/step - loss: 1.5613 - val_loss: 1.6497\n",
      "Epoch 70/200\n",
      "9989/9989 [==============================] - 6s 631us/step - loss: 1.5603 - val_loss: 1.6492\n",
      "Epoch 71/200\n",
      "9989/9989 [==============================] - 6s 621us/step - loss: 1.5593 - val_loss: 1.6486\n",
      "Epoch 72/200\n",
      "9989/9989 [==============================] - 6s 641us/step - loss: 1.5584 - val_loss: 1.6480\n",
      "Epoch 73/200\n",
      "9989/9989 [==============================] - 6s 620us/step - loss: 1.5574 - val_loss: 1.6475\n",
      "Epoch 74/200\n",
      "9989/9989 [==============================] - 6s 624us/step - loss: 1.5566 - val_loss: 1.6470\n",
      "Epoch 75/200\n",
      "9989/9989 [==============================] - 6s 617us/step - loss: 1.5557 - val_loss: 1.6466\n",
      "Epoch 76/200\n",
      "9989/9989 [==============================] - 6s 629us/step - loss: 1.5550 - val_loss: 1.6461\n",
      "Epoch 77/200\n",
      "9989/9989 [==============================] - 6s 609us/step - loss: 1.5542 - val_loss: 1.6458\n",
      "Epoch 78/200\n",
      "9989/9989 [==============================] - 6s 616us/step - loss: 1.5534 - val_loss: 1.6452\n",
      "Epoch 79/200\n",
      "9989/9989 [==============================] - 6s 603us/step - loss: 1.5527 - val_loss: 1.6448\n",
      "Epoch 80/200\n",
      "9989/9989 [==============================] - 6s 634us/step - loss: 1.5521 - val_loss: 1.6445\n",
      "Epoch 81/200\n",
      "9989/9989 [==============================] - 6s 612us/step - loss: 1.5514 - val_loss: 1.6441\n",
      "Epoch 82/200\n",
      "9989/9989 [==============================] - 6s 596us/step - loss: 1.5508 - val_loss: 1.6436\n",
      "Epoch 83/200\n",
      "9989/9989 [==============================] - 6s 596us/step - loss: 1.5502 - val_loss: 1.6433\n",
      "Epoch 84/200\n",
      "9989/9989 [==============================] - 6s 581us/step - loss: 1.5496 - val_loss: 1.6430\n",
      "Epoch 85/200\n",
      "9989/9989 [==============================] - 6s 575us/step - loss: 1.5491 - val_loss: 1.6427\n",
      "Epoch 86/200\n",
      "9989/9989 [==============================] - 6s 617us/step - loss: 1.5486 - val_loss: 1.6424\n",
      "Epoch 87/200\n",
      "9989/9989 [==============================] - 6s 619us/step - loss: 1.5481 - val_loss: 1.6422\n",
      "Epoch 88/200\n",
      "9989/9989 [==============================] - 6s 612us/step - loss: 1.5476 - val_loss: 1.6420\n",
      "Epoch 89/200\n",
      "9989/9989 [==============================] - 6s 605us/step - loss: 1.5471 - val_loss: 1.6418\n",
      "Epoch 90/200\n",
      "9989/9989 [==============================] - 6s 613us/step - loss: 1.5467 - val_loss: 1.6414\n",
      "Epoch 91/200\n",
      "9989/9989 [==============================] - 6s 594us/step - loss: 1.5463 - val_loss: 1.6412\n",
      "Epoch 92/200\n",
      "9989/9989 [==============================] - 6s 597us/step - loss: 1.5459 - val_loss: 1.6410\n",
      "Epoch 93/200\n",
      "9989/9989 [==============================] - 6s 576us/step - loss: 1.5455 - val_loss: 1.6407\n",
      "Epoch 94/200\n",
      "9989/9989 [==============================] - 6s 591us/step - loss: 1.5451 - val_loss: 1.6406\n",
      "Epoch 95/200\n",
      "9989/9989 [==============================] - 6s 582us/step - loss: 1.5447 - val_loss: 1.6403\n",
      "Epoch 96/200\n",
      "9989/9989 [==============================] - 6s 596us/step - loss: 1.5444 - val_loss: 1.6402\n",
      "Epoch 97/200\n",
      "9989/9989 [==============================] - 6s 584us/step - loss: 1.5441 - val_loss: 1.6399\n",
      "Epoch 98/200\n",
      "9989/9989 [==============================] - 6s 582us/step - loss: 1.5437 - val_loss: 1.6398\n",
      "Epoch 99/200\n",
      "9989/9989 [==============================] - 6s 573us/step - loss: 1.5434 - val_loss: 1.6397\n",
      "Epoch 100/200\n",
      "9989/9989 [==============================] - 6s 583us/step - loss: 1.5431 - val_loss: 1.6395\n",
      "Epoch 101/200\n",
      "9989/9989 [==============================] - 6s 585us/step - loss: 1.5429 - val_loss: 1.6394\n",
      "Epoch 102/200\n",
      "9989/9989 [==============================] - 6s 587us/step - loss: 1.5426 - val_loss: 1.6391\n",
      "Epoch 103/200\n",
      "9989/9989 [==============================] - 6s 579us/step - loss: 1.5423 - val_loss: 1.6389\n",
      "Epoch 104/200\n",
      "9989/9989 [==============================] - 6s 602us/step - loss: 1.5421 - val_loss: 1.6387\n",
      "Epoch 105/200\n",
      "9989/9989 [==============================] - 6s 602us/step - loss: 1.5418 - val_loss: 1.6386\n",
      "Epoch 106/200\n",
      "9989/9989 [==============================] - 6s 603us/step - loss: 1.5416 - val_loss: 1.6385\n",
      "Epoch 107/200\n",
      "9989/9989 [==============================] - 6s 608us/step - loss: 1.5414 - val_loss: 1.6383\n",
      "Epoch 108/200\n",
      "9989/9989 [==============================] - 6s 593us/step - loss: 1.5412 - val_loss: 1.6383\n",
      "Epoch 109/200\n",
      "9989/9989 [==============================] - 6s 587us/step - loss: 1.5410 - val_loss: 1.6382\n",
      "Epoch 110/200\n",
      "9989/9989 [==============================] - 6s 604us/step - loss: 1.5408 - val_loss: 1.6380\n",
      "Epoch 111/200\n",
      "9989/9989 [==============================] - 6s 578us/step - loss: 1.5406 - val_loss: 1.6379\n",
      "Epoch 112/200\n",
      "9989/9989 [==============================] - 6s 586us/step - loss: 1.5404 - val_loss: 1.6378\n",
      "Epoch 113/200\n",
      "9989/9989 [==============================] - 6s 584us/step - loss: 1.5403 - val_loss: 1.6377\n",
      "Epoch 114/200\n",
      "9989/9989 [==============================] - 6s 596us/step - loss: 1.5401 - val_loss: 1.6375\n",
      "Epoch 115/200\n",
      "9989/9989 [==============================] - 6s 595us/step - loss: 1.5399 - val_loss: 1.6374\n",
      "Epoch 116/200\n",
      "9989/9989 [==============================] - 6s 604us/step - loss: 1.5398 - val_loss: 1.6373\n",
      "Epoch 117/200\n",
      "9989/9989 [==============================] - 6s 579us/step - loss: 1.5397 - val_loss: 1.6373\n",
      "Epoch 118/200\n",
      "9989/9989 [==============================] - 6s 600us/step - loss: 1.5395 - val_loss: 1.6373\n",
      "Epoch 119/200\n",
      "9989/9989 [==============================] - 6s 582us/step - loss: 1.5394 - val_loss: 1.6371\n",
      "Epoch 120/200\n",
      "9989/9989 [==============================] - 6s 577us/step - loss: 1.5393 - val_loss: 1.6371\n",
      "Epoch 121/200\n",
      "9989/9989 [==============================] - 6s 592us/step - loss: 1.5392 - val_loss: 1.6370\n",
      "Epoch 122/200\n",
      "9989/9989 [==============================] - 6s 592us/step - loss: 1.5390 - val_loss: 1.6368\n",
      "Epoch 123/200\n",
      "9989/9989 [==============================] - 6s 594us/step - loss: 1.5389 - val_loss: 1.6367\n",
      "Epoch 124/200\n",
      "9989/9989 [==============================] - 6s 592us/step - loss: 1.5388 - val_loss: 1.6367\n",
      "Epoch 125/200\n",
      "9989/9989 [==============================] - 6s 596us/step - loss: 1.5387 - val_loss: 1.6367\n",
      "Epoch 126/200\n",
      "9989/9989 [==============================] - 6s 583us/step - loss: 1.5386 - val_loss: 1.6366\n",
      "Epoch 127/200\n",
      "9989/9989 [==============================] - 6s 584us/step - loss: 1.5385 - val_loss: 1.6365\n",
      "Epoch 128/200\n",
      "9989/9989 [==============================] - 6s 600us/step - loss: 1.5384 - val_loss: 1.6364\n",
      "Epoch 129/200\n",
      "9989/9989 [==============================] - 6s 601us/step - loss: 1.5383 - val_loss: 1.6365\n",
      "Epoch 130/200\n",
      "9989/9989 [==============================] - 6s 599us/step - loss: 1.5382 - val_loss: 1.6363\n",
      "Epoch 131/200\n",
      "9989/9989 [==============================] - 6s 591us/step - loss: 1.5382 - val_loss: 1.6364\n",
      "Epoch 132/200\n",
      "9989/9989 [==============================] - 6s 602us/step - loss: 1.5381 - val_loss: 1.6363\n",
      "Epoch 133/200\n",
      "9989/9989 [==============================] - 6s 595us/step - loss: 1.5380 - val_loss: 1.6361\n",
      "Epoch 134/200\n",
      "9989/9989 [==============================] - 6s 601us/step - loss: 1.5380 - val_loss: 1.6361\n",
      "Epoch 135/200\n",
      "9989/9989 [==============================] - 6s 599us/step - loss: 1.5379 - val_loss: 1.6361\n",
      "Epoch 136/200\n",
      "9989/9989 [==============================] - 6s 571us/step - loss: 1.5378 - val_loss: 1.6360\n",
      "Epoch 137/200\n",
      "9989/9989 [==============================] - 6s 595us/step - loss: 1.5378 - val_loss: 1.6360\n",
      "Epoch 138/200\n",
      "9989/9989 [==============================] - 6s 587us/step - loss: 1.5377 - val_loss: 1.6360\n",
      "Epoch 139/200\n",
      "9989/9989 [==============================] - 6s 595us/step - loss: 1.5377 - val_loss: 1.6359\n",
      "Epoch 140/200\n",
      "9989/9989 [==============================] - 6s 597us/step - loss: 1.5376 - val_loss: 1.6357\n",
      "Epoch 141/200\n",
      "9989/9989 [==============================] - 6s 584us/step - loss: 1.5376 - val_loss: 1.6357\n",
      "Epoch 142/200\n",
      "9989/9989 [==============================] - 6s 590us/step - loss: 1.5375 - val_loss: 1.6357\n",
      "Epoch 143/200\n",
      "9989/9989 [==============================] - 6s 597us/step - loss: 1.5375 - val_loss: 1.6358\n",
      "Epoch 144/200\n",
      "9989/9989 [==============================] - 6s 590us/step - loss: 1.5374 - val_loss: 1.6356\n",
      "Epoch 145/200\n",
      "9989/9989 [==============================] - 6s 581us/step - loss: 1.5374 - val_loss: 1.6357\n",
      "Epoch 146/200\n",
      "9989/9989 [==============================] - 6s 586us/step - loss: 1.5374 - val_loss: 1.6356\n",
      "Epoch 147/200\n",
      "9989/9989 [==============================] - 6s 585us/step - loss: 1.5373 - val_loss: 1.6355\n",
      "Epoch 148/200\n",
      "9989/9989 [==============================] - 6s 576us/step - loss: 1.5373 - val_loss: 1.6355\n",
      "Epoch 149/200\n",
      "9989/9989 [==============================] - 6s 578us/step - loss: 1.5373 - val_loss: 1.6355\n",
      "Epoch 150/200\n",
      "9989/9989 [==============================] - 6s 577us/step - loss: 1.5372 - val_loss: 1.6355\n",
      "Epoch 151/200\n",
      "9989/9989 [==============================] - 6s 599us/step - loss: 1.5372 - val_loss: 1.6354\n",
      "Epoch 152/200\n",
      "9989/9989 [==============================] - 6s 595us/step - loss: 1.5372 - val_loss: 1.6355\n",
      "Epoch 153/200\n",
      "9989/9989 [==============================] - 6s 588us/step - loss: 1.5371 - val_loss: 1.6354\n",
      "Epoch 154/200\n",
      "9989/9989 [==============================] - 6s 587us/step - loss: 1.5371 - val_loss: 1.6355\n"
     ]
    }
   ],
   "source": [
    "# A simple LSTM with glove embeddings and two dense layers\n",
    "model = Sequential()\n",
    "model.add(Embedding(len(word_index) + 1,\n",
    "                     300,\n",
    "                     weights=[embedding_matrix],\n",
    "                     input_length=max_len,\n",
    "                     trainable=False))\n",
    "model.add(SpatialDropout1D(0.3))\n",
    "model.add(LSTM(300, dropout=0.3, recurrent_dropout=0.3))\n",
    "\n",
    "model.add(Dense(1024, activation='relu'))\n",
    "model.add(Dropout(0.8))\n",
    "\n",
    "model.add(Dense(1024, activation='relu'))\n",
    "model.add(Dropout(0.8))\n",
    "\n",
    "model.add(Dense(7))\n",
    "model.add(Activation('softmax'))\n",
    "model.compile(loss='categorical_crossentropy', optimizer='adam')\n",
    "\n",
    "# Fit the model with early stopping callback\n",
    "earlystop = EarlyStopping(monitor='val_loss', min_delta=0, patience=3, verbose=0, mode='auto')\n",
    "\n",
    "history=model.fit(xtrain_pad, y=y_train_enc_nn, batch_size=512, epochs=200, verbose=1, validation_data=(xvalid_pad, y_cv_enc_nn), callbacks=[earlystop])"
   ]
  },
  {
   "cell_type": "markdown",
   "metadata": {
    "colab_type": "text",
    "id": "0COfXM9Sjiku"
   },
   "source": [
    "### Bi -LSTM\n"
   ]
  },
  {
   "cell_type": "code",
   "execution_count": null,
   "metadata": {
    "colab": {
     "base_uri": "https://localhost:8080/",
     "height": 1000
    },
    "colab_type": "code",
    "id": "yhBSQtbHiqVj",
    "outputId": "b890b452-dff3-4c47-974f-b043f2ed2e4c"
   },
   "outputs": [
    {
     "name": "stdout",
     "output_type": "stream",
     "text": [
      "Train on 9989 samples, validate on 1109 samples\n",
      "Epoch 1/200\n",
      "9989/9989 [==============================] - 13s 1ms/step - loss: 1.9397 - val_loss: 1.9351\n",
      "Epoch 2/200\n",
      "9989/9989 [==============================] - 12s 1ms/step - loss: 1.9259 - val_loss: 1.9240\n",
      "Epoch 3/200\n",
      "9989/9989 [==============================] - 12s 1ms/step - loss: 1.9122 - val_loss: 1.9135\n",
      "Epoch 4/200\n",
      "9989/9989 [==============================] - 11s 1ms/step - loss: 1.8991 - val_loss: 1.9033\n",
      "Epoch 5/200\n",
      "9989/9989 [==============================] - 12s 1ms/step - loss: 1.8864 - val_loss: 1.8934\n",
      "Epoch 6/200\n",
      "9989/9989 [==============================] - 12s 1ms/step - loss: 1.8742 - val_loss: 1.8838\n",
      "Epoch 7/200\n",
      "9989/9989 [==============================] - 11s 1ms/step - loss: 1.8623 - val_loss: 1.8745\n",
      "Epoch 8/200\n",
      "9989/9989 [==============================] - 12s 1ms/step - loss: 1.8508 - val_loss: 1.8655\n",
      "Epoch 9/200\n",
      "9989/9989 [==============================] - 12s 1ms/step - loss: 1.8396 - val_loss: 1.8567\n",
      "Epoch 10/200\n",
      "9989/9989 [==============================] - 11s 1ms/step - loss: 1.8288 - val_loss: 1.8482\n",
      "Epoch 11/200\n",
      "9989/9989 [==============================] - 12s 1ms/step - loss: 1.8183 - val_loss: 1.8401\n",
      "Epoch 12/200\n",
      "9989/9989 [==============================] - 12s 1ms/step - loss: 1.8081 - val_loss: 1.8320\n",
      "Epoch 13/200\n",
      "9989/9989 [==============================] - 12s 1ms/step - loss: 1.7982 - val_loss: 1.8242\n",
      "Epoch 14/200\n",
      "9989/9989 [==============================] - 12s 1ms/step - loss: 1.7886 - val_loss: 1.8166\n",
      "Epoch 15/200\n",
      "9989/9989 [==============================] - 12s 1ms/step - loss: 1.7792 - val_loss: 1.8092\n",
      "Epoch 16/200\n",
      "9989/9989 [==============================] - 12s 1ms/step - loss: 1.7701 - val_loss: 1.8021\n",
      "Epoch 17/200\n",
      "9989/9989 [==============================] - 12s 1ms/step - loss: 1.7613 - val_loss: 1.7951\n",
      "Epoch 18/200\n",
      "9989/9989 [==============================] - 12s 1ms/step - loss: 1.7528 - val_loss: 1.7885\n",
      "Epoch 19/200\n",
      "9989/9989 [==============================] - 11s 1ms/step - loss: 1.7445 - val_loss: 1.7819\n",
      "Epoch 20/200\n",
      "9989/9989 [==============================] - 11s 1ms/step - loss: 1.7365 - val_loss: 1.7757\n",
      "Epoch 21/200\n",
      "9989/9989 [==============================] - 11s 1ms/step - loss: 1.7287 - val_loss: 1.7696\n",
      "Epoch 22/200\n",
      "9989/9989 [==============================] - 12s 1ms/step - loss: 1.7212 - val_loss: 1.7637\n",
      "Epoch 23/200\n",
      "9989/9989 [==============================] - 12s 1ms/step - loss: 1.7139 - val_loss: 1.7582\n",
      "Epoch 24/200\n",
      "9989/9989 [==============================] - 12s 1ms/step - loss: 1.7069 - val_loss: 1.7527\n",
      "Epoch 25/200\n",
      "9989/9989 [==============================] - 12s 1ms/step - loss: 1.7001 - val_loss: 1.7475\n",
      "Epoch 26/200\n",
      "9989/9989 [==============================] - 12s 1ms/step - loss: 1.6936 - val_loss: 1.7425\n",
      "Epoch 27/200\n",
      "9989/9989 [==============================] - 12s 1ms/step - loss: 1.6873 - val_loss: 1.7376\n",
      "Epoch 28/200\n",
      "9989/9989 [==============================] - 12s 1ms/step - loss: 1.6811 - val_loss: 1.7329\n",
      "Epoch 29/200\n",
      "9989/9989 [==============================] - 12s 1ms/step - loss: 1.6752 - val_loss: 1.7285\n",
      "Epoch 30/200\n",
      "9989/9989 [==============================] - 12s 1ms/step - loss: 1.6695 - val_loss: 1.7243\n",
      "Epoch 31/200\n",
      "9989/9989 [==============================] - 12s 1ms/step - loss: 1.6641 - val_loss: 1.7201\n",
      "Epoch 32/200\n",
      "9989/9989 [==============================] - 12s 1ms/step - loss: 1.6588 - val_loss: 1.7161\n",
      "Epoch 33/200\n",
      "9989/9989 [==============================] - 11s 1ms/step - loss: 1.6537 - val_loss: 1.7124\n",
      "Epoch 34/200\n",
      "9989/9989 [==============================] - 12s 1ms/step - loss: 1.6488 - val_loss: 1.7088\n",
      "Epoch 35/200\n",
      "9989/9989 [==============================] - 12s 1ms/step - loss: 1.6442 - val_loss: 1.7054\n",
      "Epoch 36/200\n",
      "9989/9989 [==============================] - 12s 1ms/step - loss: 1.6397 - val_loss: 1.7021\n",
      "Epoch 37/200\n",
      "9989/9989 [==============================] - 12s 1ms/step - loss: 1.6353 - val_loss: 1.6990\n",
      "Epoch 38/200\n",
      "9989/9989 [==============================] - 12s 1ms/step - loss: 1.6312 - val_loss: 1.6960\n",
      "Epoch 39/200\n",
      "9989/9989 [==============================] - 12s 1ms/step - loss: 1.6272 - val_loss: 1.6932\n",
      "Epoch 40/200\n",
      "9989/9989 [==============================] - 12s 1ms/step - loss: 1.6234 - val_loss: 1.6905\n",
      "Epoch 41/200\n",
      "9989/9989 [==============================] - 12s 1ms/step - loss: 1.6197 - val_loss: 1.6879\n",
      "Epoch 42/200\n",
      "9989/9989 [==============================] - 11s 1ms/step - loss: 1.6162 - val_loss: 1.6854\n",
      "Epoch 43/200\n",
      "9989/9989 [==============================] - 12s 1ms/step - loss: 1.6128 - val_loss: 1.6831\n",
      "Epoch 44/200\n",
      "9989/9989 [==============================] - 12s 1ms/step - loss: 1.6096 - val_loss: 1.6808\n",
      "Epoch 45/200\n",
      "9989/9989 [==============================] - 12s 1ms/step - loss: 1.6065 - val_loss: 1.6786\n",
      "Epoch 46/200\n",
      "9989/9989 [==============================] - 12s 1ms/step - loss: 1.6035 - val_loss: 1.6767\n",
      "Epoch 47/200\n",
      "9989/9989 [==============================] - 12s 1ms/step - loss: 1.6007 - val_loss: 1.6747\n",
      "Epoch 48/200\n",
      "9989/9989 [==============================] - 11s 1ms/step - loss: 1.5979 - val_loss: 1.6729\n",
      "Epoch 49/200\n",
      "9989/9989 [==============================] - 11s 1ms/step - loss: 1.5954 - val_loss: 1.6712\n",
      "Epoch 50/200\n",
      "9989/9989 [==============================] - 11s 1ms/step - loss: 1.5928 - val_loss: 1.6695\n",
      "Epoch 51/200\n",
      "9989/9989 [==============================] - 12s 1ms/step - loss: 1.5904 - val_loss: 1.6679\n",
      "Epoch 52/200\n",
      "9989/9989 [==============================] - 12s 1ms/step - loss: 1.5882 - val_loss: 1.6663\n",
      "Epoch 53/200\n",
      "9989/9989 [==============================] - 12s 1ms/step - loss: 1.5860 - val_loss: 1.6650\n",
      "Epoch 54/200\n",
      "9989/9989 [==============================] - 12s 1ms/step - loss: 1.5839 - val_loss: 1.6637\n",
      "Epoch 55/200\n",
      "9989/9989 [==============================] - 12s 1ms/step - loss: 1.5819 - val_loss: 1.6623\n",
      "Epoch 56/200\n",
      "9989/9989 [==============================] - 12s 1ms/step - loss: 1.5799 - val_loss: 1.6611\n",
      "Epoch 57/200\n",
      "9989/9989 [==============================] - 12s 1ms/step - loss: 1.5781 - val_loss: 1.6599\n",
      "Epoch 58/200\n",
      "9989/9989 [==============================] - 12s 1ms/step - loss: 1.5763 - val_loss: 1.6588\n",
      "Epoch 59/200\n",
      "9989/9989 [==============================] - 12s 1ms/step - loss: 1.5746 - val_loss: 1.6578\n",
      "Epoch 60/200\n",
      "9989/9989 [==============================] - 11s 1ms/step - loss: 1.5730 - val_loss: 1.6567\n",
      "Epoch 61/200\n",
      "9989/9989 [==============================] - 12s 1ms/step - loss: 1.5715 - val_loss: 1.6558\n",
      "Epoch 62/200\n",
      "9989/9989 [==============================] - 12s 1ms/step - loss: 1.5700 - val_loss: 1.6549\n",
      "Epoch 63/200\n",
      "9989/9989 [==============================] - 12s 1ms/step - loss: 1.5686 - val_loss: 1.6541\n",
      "Epoch 64/200\n",
      "9989/9989 [==============================] - 12s 1ms/step - loss: 1.5673 - val_loss: 1.6533\n",
      "Epoch 65/200\n",
      "9989/9989 [==============================] - 12s 1ms/step - loss: 1.5660 - val_loss: 1.6525\n",
      "Epoch 66/200\n",
      "9989/9989 [==============================] - 12s 1ms/step - loss: 1.5647 - val_loss: 1.6519\n",
      "Epoch 67/200\n",
      "9989/9989 [==============================] - 12s 1ms/step - loss: 1.5636 - val_loss: 1.6511\n",
      "Epoch 68/200\n",
      "9989/9989 [==============================] - 11s 1ms/step - loss: 1.5624 - val_loss: 1.6505\n",
      "Epoch 69/200\n",
      "9989/9989 [==============================] - 12s 1ms/step - loss: 1.5614 - val_loss: 1.6499\n",
      "Epoch 70/200\n",
      "9989/9989 [==============================] - 12s 1ms/step - loss: 1.5603 - val_loss: 1.6492\n",
      "Epoch 71/200\n",
      "9989/9989 [==============================] - 11s 1ms/step - loss: 1.5593 - val_loss: 1.6486\n",
      "Epoch 72/200\n",
      "9989/9989 [==============================] - 12s 1ms/step - loss: 1.5584 - val_loss: 1.6481\n",
      "Epoch 73/200\n",
      "9989/9989 [==============================] - 12s 1ms/step - loss: 1.5575 - val_loss: 1.6475\n",
      "Epoch 74/200\n",
      "9989/9989 [==============================] - 12s 1ms/step - loss: 1.5566 - val_loss: 1.6471\n",
      "Epoch 75/200\n",
      "9989/9989 [==============================] - 12s 1ms/step - loss: 1.5558 - val_loss: 1.6466\n",
      "Epoch 76/200\n",
      "9989/9989 [==============================] - 12s 1ms/step - loss: 1.5549 - val_loss: 1.6460\n",
      "Epoch 77/200\n",
      "9989/9989 [==============================] - 12s 1ms/step - loss: 1.5542 - val_loss: 1.6457\n",
      "Epoch 78/200\n",
      "9989/9989 [==============================] - 12s 1ms/step - loss: 1.5535 - val_loss: 1.6453\n",
      "Epoch 79/200\n",
      "9989/9989 [==============================] - 12s 1ms/step - loss: 1.5527 - val_loss: 1.6449\n",
      "Epoch 80/200\n",
      "9989/9989 [==============================] - 12s 1ms/step - loss: 1.5521 - val_loss: 1.6445\n",
      "Epoch 81/200\n",
      "9989/9989 [==============================] - 11s 1ms/step - loss: 1.5514 - val_loss: 1.6441\n",
      "Epoch 82/200\n",
      "9989/9989 [==============================] - 12s 1ms/step - loss: 1.5508 - val_loss: 1.6437\n",
      "Epoch 83/200\n",
      "9989/9989 [==============================] - 11s 1ms/step - loss: 1.5502 - val_loss: 1.6434\n",
      "Epoch 84/200\n",
      "9989/9989 [==============================] - 12s 1ms/step - loss: 1.5496 - val_loss: 1.6431\n",
      "Epoch 85/200\n",
      "9989/9989 [==============================] - 11s 1ms/step - loss: 1.5491 - val_loss: 1.6428\n",
      "Epoch 86/200\n",
      "9989/9989 [==============================] - 12s 1ms/step - loss: 1.5486 - val_loss: 1.6425\n",
      "Epoch 87/200\n",
      "9989/9989 [==============================] - 12s 1ms/step - loss: 1.5481 - val_loss: 1.6422\n",
      "Epoch 88/200\n",
      "9989/9989 [==============================] - 12s 1ms/step - loss: 1.5476 - val_loss: 1.6420\n",
      "Epoch 89/200\n",
      "9989/9989 [==============================] - 12s 1ms/step - loss: 1.5471 - val_loss: 1.6417\n",
      "Epoch 90/200\n",
      "9989/9989 [==============================] - 12s 1ms/step - loss: 1.5467 - val_loss: 1.6415\n",
      "Epoch 91/200\n",
      "9989/9989 [==============================] - 12s 1ms/step - loss: 1.5462 - val_loss: 1.6412\n",
      "Epoch 92/200\n",
      "9989/9989 [==============================] - 12s 1ms/step - loss: 1.5458 - val_loss: 1.6410\n",
      "Epoch 93/200\n",
      "9989/9989 [==============================] - 11s 1ms/step - loss: 1.5454 - val_loss: 1.6408\n",
      "Epoch 94/200\n",
      "9989/9989 [==============================] - 12s 1ms/step - loss: 1.5451 - val_loss: 1.6406\n",
      "Epoch 95/200\n",
      "9989/9989 [==============================] - 12s 1ms/step - loss: 1.5447 - val_loss: 1.6403\n",
      "Epoch 96/200\n",
      "9989/9989 [==============================] - 11s 1ms/step - loss: 1.5444 - val_loss: 1.6402\n",
      "Epoch 97/200\n",
      "9989/9989 [==============================] - 11s 1ms/step - loss: 1.5441 - val_loss: 1.6398\n",
      "Epoch 98/200\n",
      "9989/9989 [==============================] - 11s 1ms/step - loss: 1.5437 - val_loss: 1.6396\n",
      "Epoch 99/200\n",
      "9989/9989 [==============================] - 12s 1ms/step - loss: 1.5434 - val_loss: 1.6395\n",
      "Epoch 100/200\n",
      "9989/9989 [==============================] - 12s 1ms/step - loss: 1.5431 - val_loss: 1.6392\n",
      "Epoch 101/200\n",
      "9989/9989 [==============================] - 11s 1ms/step - loss: 1.5428 - val_loss: 1.6391\n",
      "Epoch 102/200\n",
      "9989/9989 [==============================] - 11s 1ms/step - loss: 1.5426 - val_loss: 1.6390\n",
      "Epoch 103/200\n",
      "9989/9989 [==============================] - 11s 1ms/step - loss: 1.5423 - val_loss: 1.6388\n",
      "Epoch 104/200\n",
      "9989/9989 [==============================] - 11s 1ms/step - loss: 1.5421 - val_loss: 1.6387\n",
      "Epoch 105/200\n",
      "9989/9989 [==============================] - 11s 1ms/step - loss: 1.5418 - val_loss: 1.6386\n",
      "Epoch 106/200\n",
      "9989/9989 [==============================] - 11s 1ms/step - loss: 1.5416 - val_loss: 1.6385\n",
      "Epoch 107/200\n",
      "9989/9989 [==============================] - 12s 1ms/step - loss: 1.5414 - val_loss: 1.6383\n",
      "Epoch 108/200\n",
      "9989/9989 [==============================] - 11s 1ms/step - loss: 1.5412 - val_loss: 1.6384\n",
      "Epoch 109/200\n",
      "9989/9989 [==============================] - 12s 1ms/step - loss: 1.5410 - val_loss: 1.6381\n",
      "Epoch 110/200\n",
      "9989/9989 [==============================] - 11s 1ms/step - loss: 1.5408 - val_loss: 1.6380\n",
      "Epoch 111/200\n",
      "9989/9989 [==============================] - 11s 1ms/step - loss: 1.5406 - val_loss: 1.6379\n",
      "Epoch 112/200\n",
      "9989/9989 [==============================] - 11s 1ms/step - loss: 1.5404 - val_loss: 1.6378\n",
      "Epoch 113/200\n",
      "9989/9989 [==============================] - 11s 1ms/step - loss: 1.5403 - val_loss: 1.6377\n",
      "Epoch 114/200\n",
      "9989/9989 [==============================] - 11s 1ms/step - loss: 1.5401 - val_loss: 1.6376\n",
      "Epoch 115/200\n",
      "9989/9989 [==============================] - 11s 1ms/step - loss: 1.5399 - val_loss: 1.6374\n",
      "Epoch 116/200\n",
      "9989/9989 [==============================] - 11s 1ms/step - loss: 1.5398 - val_loss: 1.6374\n",
      "Epoch 117/200\n",
      "9989/9989 [==============================] - 11s 1ms/step - loss: 1.5397 - val_loss: 1.6373\n",
      "Epoch 118/200\n",
      "9989/9989 [==============================] - 11s 1ms/step - loss: 1.5395 - val_loss: 1.6372\n",
      "Epoch 119/200\n",
      "9989/9989 [==============================] - 11s 1ms/step - loss: 1.5394 - val_loss: 1.6371\n",
      "Epoch 120/200\n",
      "9989/9989 [==============================] - 11s 1ms/step - loss: 1.5392 - val_loss: 1.6370\n",
      "Epoch 121/200\n",
      "9989/9989 [==============================] - 11s 1ms/step - loss: 1.5391 - val_loss: 1.6370\n",
      "Epoch 122/200\n",
      "9989/9989 [==============================] - 11s 1ms/step - loss: 1.5390 - val_loss: 1.6369\n",
      "Epoch 123/200\n",
      "9989/9989 [==============================] - 11s 1ms/step - loss: 1.5389 - val_loss: 1.6368\n",
      "Epoch 124/200\n",
      "9989/9989 [==============================] - 11s 1ms/step - loss: 1.5388 - val_loss: 1.6366\n",
      "Epoch 125/200\n",
      "9989/9989 [==============================] - 11s 1ms/step - loss: 1.5387 - val_loss: 1.6366\n",
      "Epoch 126/200\n",
      "9989/9989 [==============================] - 11s 1ms/step - loss: 1.5386 - val_loss: 1.6366\n",
      "Epoch 127/200\n",
      "9989/9989 [==============================] - 11s 1ms/step - loss: 1.5385 - val_loss: 1.6366\n",
      "Epoch 128/200\n",
      "9989/9989 [==============================] - 11s 1ms/step - loss: 1.5384 - val_loss: 1.6365\n",
      "Epoch 129/200\n",
      "9989/9989 [==============================] - 11s 1ms/step - loss: 1.5383 - val_loss: 1.6364\n",
      "Epoch 130/200\n",
      "9989/9989 [==============================] - 11s 1ms/step - loss: 1.5382 - val_loss: 1.6363\n",
      "Epoch 131/200\n",
      "9989/9989 [==============================] - 11s 1ms/step - loss: 1.5382 - val_loss: 1.6363\n",
      "Epoch 132/200\n",
      "9989/9989 [==============================] - 11s 1ms/step - loss: 1.5381 - val_loss: 1.6363\n",
      "Epoch 133/200\n",
      "9989/9989 [==============================] - 11s 1ms/step - loss: 1.5380 - val_loss: 1.6361\n",
      "Epoch 134/200\n",
      "9989/9989 [==============================] - 11s 1ms/step - loss: 1.5379 - val_loss: 1.6362\n",
      "Epoch 135/200\n",
      "9989/9989 [==============================] - 11s 1ms/step - loss: 1.5379 - val_loss: 1.6361\n",
      "Epoch 136/200\n",
      "9989/9989 [==============================] - 11s 1ms/step - loss: 1.5378 - val_loss: 1.6360\n",
      "Epoch 137/200\n",
      "9989/9989 [==============================] - 11s 1ms/step - loss: 1.5378 - val_loss: 1.6360\n",
      "Epoch 138/200\n",
      "9989/9989 [==============================] - 11s 1ms/step - loss: 1.5377 - val_loss: 1.6360\n",
      "Epoch 139/200\n",
      "9989/9989 [==============================] - 11s 1ms/step - loss: 1.5377 - val_loss: 1.6359\n",
      "Epoch 140/200\n",
      "9989/9989 [==============================] - 11s 1ms/step - loss: 1.5376 - val_loss: 1.6358\n",
      "Epoch 141/200\n",
      "9989/9989 [==============================] - 11s 1ms/step - loss: 1.5376 - val_loss: 1.6359\n",
      "Epoch 142/200\n",
      "9989/9989 [==============================] - 11s 1ms/step - loss: 1.5375 - val_loss: 1.6358\n",
      "Epoch 143/200\n",
      "9989/9989 [==============================] - 12s 1ms/step - loss: 1.5375 - val_loss: 1.6358\n",
      "Epoch 144/200\n",
      "9989/9989 [==============================] - 11s 1ms/step - loss: 1.5374 - val_loss: 1.6357\n",
      "Epoch 145/200\n",
      "9989/9989 [==============================] - 11s 1ms/step - loss: 1.5374 - val_loss: 1.6356\n",
      "Epoch 146/200\n",
      "9989/9989 [==============================] - 11s 1ms/step - loss: 1.5374 - val_loss: 1.6357\n",
      "Epoch 147/200\n",
      "9989/9989 [==============================] - 11s 1ms/step - loss: 1.5373 - val_loss: 1.6357\n",
      "Epoch 148/200\n",
      "9989/9989 [==============================] - 11s 1ms/step - loss: 1.5373 - val_loss: 1.6356\n",
      "Epoch 149/200\n",
      "9989/9989 [==============================] - 11s 1ms/step - loss: 1.5373 - val_loss: 1.6356\n",
      "Epoch 150/200\n",
      "9989/9989 [==============================] - 11s 1ms/step - loss: 1.5372 - val_loss: 1.6355\n",
      "Epoch 151/200\n",
      "9989/9989 [==============================] - 11s 1ms/step - loss: 1.5372 - val_loss: 1.6354\n",
      "Epoch 152/200\n",
      "9989/9989 [==============================] - 11s 1ms/step - loss: 1.5372 - val_loss: 1.6354\n",
      "Epoch 153/200\n",
      "9989/9989 [==============================] - 11s 1ms/step - loss: 1.5371 - val_loss: 1.6354\n",
      "Epoch 154/200\n",
      "9989/9989 [==============================] - 11s 1ms/step - loss: 1.5371 - val_loss: 1.6355\n",
      "Epoch 155/200\n",
      "9989/9989 [==============================] - 11s 1ms/step - loss: 1.5371 - val_loss: 1.6355\n",
      "Epoch 156/200\n",
      "9989/9989 [==============================] - 11s 1ms/step - loss: 1.5371 - val_loss: 1.6355\n"
     ]
    }
   ],
   "source": [
    "# A simple bidirectional LSTM with glove embeddings and two dense layers\n",
    "model = Sequential()\n",
    "model.add(Embedding(len(word_index) + 1,\n",
    "                     300,\n",
    "                     weights=[embedding_matrix],\n",
    "                     input_length=max_len,\n",
    "                     trainable=False))\n",
    "model.add(SpatialDropout1D(0.3))\n",
    "model.add(Bidirectional(LSTM(300, dropout=0.3, recurrent_dropout=0.3)))\n",
    "\n",
    "model.add(Dense(1024, activation='relu'))\n",
    "model.add(Dropout(0.8))\n",
    "\n",
    "model.add(Dense(1024, activation='relu'))\n",
    "model.add(Dropout(0.8))\n",
    "\n",
    "model.add(Dense(7))\n",
    "model.add(Activation('softmax'))\n",
    "model.compile(loss='categorical_crossentropy', optimizer='adam')\n",
    "\n",
    "# Fit the model with early stopping callback\n",
    "earlystop = EarlyStopping(monitor='val_loss', min_delta=0, patience=3, verbose=0, mode='auto')\n",
    "\n",
    "history=model.fit(xtrain_pad, y=y_train_enc_nn, batch_size=512, epochs=200, verbose=1, validation_data=(xvalid_pad, y_cv_enc_nn), callbacks=[earlystop])"
   ]
  },
  {
   "cell_type": "code",
   "execution_count": null,
   "metadata": {
    "colab": {},
    "colab_type": "code",
    "id": "w7KmiMuK0GV-"
   },
   "outputs": [],
   "source": [
    "from sklearn.externals import joblib \n",
    "joblib.dump(lr, 'lr2.pkl') \n",
    "joblib.dump(tfv, 'tfidf.pkl') "
   ]
  },
  {
   "cell_type": "markdown",
   "metadata": {},
   "source": [
    "### Testing Model"
   ]
  },
  {
   "cell_type": "code",
   "execution_count": 33,
   "metadata": {},
   "outputs": [],
   "source": [
    "from sklearn.externals import joblib \n",
    "def predictor(sentence):\n",
    "    lst = []\n",
    "    my_model = joblib.load('lr2.pkl') \n",
    "    tfv = joblib.load('tfidf.pkl')  \n",
    "\n",
    "    sent = preprocessor(sentence)\n",
    "\n",
    "    lst.append(sent)\n",
    "    sent_tfv = tfv.transform(lst)\n",
    "    ans = my_model.predict(sent_tfv) \n",
    "    mapped_ans = mapper(ans)\n",
    "    return mapped_ans"
   ]
  },
  {
   "cell_type": "code",
   "execution_count": 35,
   "metadata": {},
   "outputs": [],
   "source": [
    "import re\n",
    "\n",
    "### Dataset Preprocessing \n",
    "from nltk.stem.porter import PorterStemmer\n",
    "def preprocessor(sentence):\n",
    "    ps = PorterStemmer()\n",
    "\n",
    "    review = re.sub('[^a-zA-Z]', ' ', sentence)\n",
    "    review = review.lower()\n",
    "    review = review.split()\n",
    "\n",
    "    review = [ps.stem(word) for word in review if not word in stopwords.words('english')]\n",
    "    review = ' '.join(review)\n",
    "    return review"
   ]
  },
  {
   "cell_type": "code",
   "execution_count": 36,
   "metadata": {},
   "outputs": [],
   "source": [
    "def mapper(val):\n",
    "    for i in val:\n",
    "    if i==0:\n",
    "        return 'Anger'\n",
    "    elif i==1:\n",
    "        return 'Disgust'\n",
    "    elif i==2:\n",
    "        return 'Fear'\n",
    "    elif i==3:\n",
    "        return 'Joy'\n",
    "    elif i==4:\n",
    "        return 'Neutral'\n",
    "    elif i==5:\n",
    "        return 'Sadness'\n",
    "    elif i==6:\n",
    "        return 'Surprise'\n",
    "    \n",
    "    "
   ]
  },
  {
   "cell_type": "code",
   "execution_count": 37,
   "metadata": {},
   "outputs": [
    {
     "name": "stdout",
     "output_type": "stream",
     "text": [
      "joy\n"
     ]
    }
   ],
   "source": [
    "val = predictor('oh! that is a good news')\n",
    "print(val)"
   ]
  },
  {
   "cell_type": "code",
   "execution_count": 38,
   "metadata": {},
   "outputs": [
    {
     "name": "stdout",
     "output_type": "stream",
     "text": [
      "anger\n"
     ]
    }
   ],
   "source": [
    "val = predictor('i do not like that thing')\n",
    "print(val)"
   ]
  },
  {
   "cell_type": "code",
   "execution_count": null,
   "metadata": {},
   "outputs": [],
   "source": []
  }
 ],
 "metadata": {
  "accelerator": "GPU",
  "colab": {
   "collapsed_sections": [],
   "name": "SaarthiAI.ipynb",
   "provenance": [],
   "toc_visible": true
  },
  "kernelspec": {
   "display_name": "Python 3",
   "language": "python",
   "name": "python3"
  },
  "language_info": {
   "codemirror_mode": {
    "name": "ipython",
    "version": 3
   },
   "file_extension": ".py",
   "mimetype": "text/x-python",
   "name": "python",
   "nbconvert_exporter": "python",
   "pygments_lexer": "ipython3",
   "version": "3.6.7"
  }
 },
 "nbformat": 4,
 "nbformat_minor": 1
}
